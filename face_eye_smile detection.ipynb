{
 "cells": [
  {
   "cell_type": "code",
   "execution_count": null,
   "metadata": {},
   "outputs": [],
   "source": [
    "import cv2\n",
    "from matplotlib import pyplot as plt\n",
    "import numpy as np\n",
    "cap=cv2.VideoCapture(0)\n",
    "faceClassifier=cv2.CascadeClassifier(cv2.data.haarcascades+'haarcascade_frontalface_default.xml')\n",
    "eyeclassifier=cv2.CascadeClassifier(cv2.data.haarcascades+'haarcascade_eye.xml')\n",
    "smileclassifier=cv2.CascadeClassifier(cv2.data.haarcascades+'haarcascade_smile.xml')\n",
    "font3=cv2.FONT_HERSHEY_PLAIN\n",
    "while (cap.isOpened()):\n",
    "\n",
    "    ret,frame=cap.read()\n",
    "\n",
    "    if (ret):\n",
    "        gray=cv2.cvtColor(frame,cv2.COLOR_BGR2GRAY)\n",
    "        faces=faceClassifier.detectMultiScale(gray,scaleFactor=1.1,minNeighbors=2,minSize=(70,70))\n",
    "        for x,y,w,h in faces:\n",
    "            cv2.rectangle(frame,(x,y),(x+w,y+h),(0,255,255),5)\n",
    "            cv2.putText(frame,\"Me\",(x+20,y+250),font3,3,(0,0,255),2,cv2.LINE_AA)\n",
    "       \n",
    "       #eye---- \n",
    "        face=gray[y:y+h,x:x+w]\n",
    "        eyes=eyeclassifier.detectMultiScale(face,scaleFactor=1.01,minNeighbors=30,minSize=(50,50))\n",
    "        for x2,y2,w2,h2 in eyes:\n",
    "            cv2.rectangle(frame,(x+x2,y+y2),(x+x2+w2,y+y2+h2),(0,255,255),5)\n",
    "            cv2.putText(frame,\"eye\",(x2+x,y2+y+55),font3,1,(0,0,255),2,cv2.LINE_AA)\n",
    "    #smile\n",
    "        smile=smileclassifier.detectMultiScale(face,scaleFactor=1.02,minNeighbors=20,minSize=(55,55))\n",
    "        for x3,y3,w3,h3 in smile:\n",
    "            cv2.rectangle(frame,(x+x3,y+y3),(x+x3+w3,y+y3+h3),(0,255,255),5)\n",
    "            cv2.putText(frame,\"smile\",(x3+x+7,y3+y),font3,1,(0,0,255),2,cv2.LINE_AA) \n",
    "    cv2.imshow(\"my_image\",frame)\n",
    "    k=cv2.waitKey(1)\n",
    "    if k==ord('q'):\n",
    "        break\n",
    "cap.release()\n",
    "cv2.destroyAllWindows()\n"
   ]
  }
 ],
 "metadata": {
  "kernelspec": {
   "display_name": "Python 3",
   "language": "python",
   "name": "python3"
  },
  "language_info": {
   "codemirror_mode": {
    "name": "ipython",
    "version": 3
   },
   "file_extension": ".py",
   "mimetype": "text/x-python",
   "name": "python",
   "nbconvert_exporter": "python",
   "pygments_lexer": "ipython3",
   "version": "3.8.3"
  }
 },
 "nbformat": 4,
 "nbformat_minor": 4
}
